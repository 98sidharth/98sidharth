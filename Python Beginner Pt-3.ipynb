{
 "cells": [
  {
   "cell_type": "markdown",
   "metadata": {
    "id": "7UrhjATOMuRl"
   },
   "source": [
    "<table align=\"left\">\n",
    "    <tr>\n",
    "        <td width=\"6%\">\n",
    "            <img src=\"question_icon.png\">\n",
    "        </td>\n",
    "        <td>\n",
    "            <div align=\"left\", style=\"font-size:120%\">\n",
    "                <font color=\"#21618C\">\n",
    "                    <b>1. Define the python function to swap first and last value of the given list<b>\n",
    "                </font>\n",
    "            </div>\n",
    "        </td>\n",
    "    </tr>\n",
    "</table>"
   ]
  },
  {
   "cell_type": "markdown",
   "metadata": {
    "id": "wPi7R89wMuRm"
   },
   "source": [
    "**Use the list given below:**<br>\n",
    "my_list = [15, 78, 10, 45, 89]"
   ]
  },
  {
   "cell_type": "code",
   "execution_count": 2,
   "metadata": {
    "id": "LfkbIHRxMuRm"
   },
   "outputs": [
    {
     "name": "stdout",
     "output_type": "stream",
     "text": [
      "[89, 78, 10, 45, 15]\n"
     ]
    }
   ],
   "source": [
    "# Write your code here\n",
    "my_list = [15, 78, 10, 45, 89]\n",
    "def swap(lst):\n",
    "    temp=lst[0]\n",
    "    lst[0]=lst[-1]\n",
    "    lst[-1]=temp\n",
    "    print(lst)\n",
    "swap(my_list)\n",
    "\n"
   ]
  },
  {
   "cell_type": "markdown",
   "metadata": {
    "id": "cHnJr9TMMuRm"
   },
   "source": [
    "<table align=\"left\">\n",
    "    <tr>\n",
    "        <td width=\"6%\">\n",
    "            <img src=\"question_icon.png\">\n",
    "        </td>\n",
    "        <td>\n",
    "            <div align=\"left\", style=\"font-size:120%\">\n",
    "                <font color=\"#21618C\">\n",
    "                    <b>2. Define the python function which adds two global numeric variables (1204 and 344536)<b>\n",
    "                </font>\n",
    "            </div>\n",
    "        </td>\n",
    "    </tr>\n",
    "</table>"
   ]
  },
  {
   "cell_type": "code",
   "execution_count": 6,
   "metadata": {
    "id": "6amPHJuyMuRn"
   },
   "outputs": [
    {
     "data": {
      "text/plain": [
       "345740"
      ]
     },
     "execution_count": 6,
     "metadata": {},
     "output_type": "execute_result"
    }
   ],
   "source": [
    "# Write your code here\n",
    "\n",
    "a=1204\n",
    "b=344536\n",
    "def add():\n",
    "    return a+b\n",
    "add()\n",
    "    \n"
   ]
  },
  {
   "cell_type": "markdown",
   "metadata": {
    "id": "bzfRqiHlMuRn"
   },
   "source": [
    "<table align=\"left\">\n",
    "    <tr>\n",
    "        <td width=\"6%\">\n",
    "            <img src=\"question_icon.png\">\n",
    "        </td>\n",
    "        <td>\n",
    "            <div align=\"left\", style=\"font-size:120%\">\n",
    "                <font color=\"#21618C\">\n",
    "                    <b>3. Define the python function to check whether the number 33 is even or odd<b>   \n",
    "                </font>\n",
    "            </div>\n",
    "        </td>\n",
    "    </tr>\n",
    "</table>"
   ]
  },
  {
   "cell_type": "code",
   "execution_count": 31,
   "metadata": {
    "id": "4po5h0vZMuRn"
   },
   "outputs": [
    {
     "name": "stdout",
     "output_type": "stream",
     "text": [
      "odd\n"
     ]
    }
   ],
   "source": [
    "# Write your code here\n",
    "def odd(num):\n",
    "    if num%2==0:\n",
    "        print(\"even\")\n",
    "    else:\n",
    "        print(\"odd\")\n",
    "\n",
    "odd(33)"
   ]
  },
  {
   "cell_type": "markdown",
   "metadata": {
    "id": "6JG1yTLEMuRn"
   },
   "source": [
    "<table align=\"left\">\n",
    "    <tr>\n",
    "        <td width=\"6%\">\n",
    "            <img src=\"question_icon.png\">\n",
    "        </td>\n",
    "        <td>\n",
    "            <div align=\"left\", style=\"font-size:120%\">\n",
    "                <font color=\"#21618C\">\n",
    "                    <b>4. Define the python function to calculate the factorial of the number<b>  \n",
    "                </font>\n",
    "            </div>\n",
    "        </td>\n",
    "    </tr>\n",
    "</table>"
   ]
  },
  {
   "cell_type": "code",
   "execution_count": 33,
   "metadata": {
    "id": "8OJClqOmMuRo"
   },
   "outputs": [
    {
     "name": "stdout",
     "output_type": "stream",
     "text": [
      "enter a num 5\n"
     ]
    },
    {
     "data": {
      "text/plain": [
       "120"
      ]
     },
     "execution_count": 33,
     "metadata": {},
     "output_type": "execute_result"
    }
   ],
   "source": [
    "def fact(n):\n",
    "    if (n==0 or n==1):\n",
    "        return 1\n",
    "    else:\n",
    "        return n*fact(n-1)\n",
    "num=int(input(\"enter a num \"))\n",
    "fact(num)"
   ]
  },
  {
   "cell_type": "markdown",
   "metadata": {
    "id": "sLC--n9PMuRo"
   },
   "source": [
    "<table align=\"left\">\n",
    "    <tr>\n",
    "        <td width=\"6%\">\n",
    "            <img src=\"question_icon.png\">\n",
    "        </td>\n",
    "        <td>\n",
    "            <div align=\"left\", style=\"font-size:120%\">\n",
    "                <font color=\"#21618C\">\n",
    "                    <b>5. Define a function to add new items(1,2,3) in the empty list<b>\n",
    "                </font>\n",
    "            </div>\n",
    "        </td>\n",
    "    </tr>\n",
    "</table>"
   ]
  },
  {
   "cell_type": "code",
   "execution_count": 38,
   "metadata": {
    "id": "iiGkMDFdMuRo"
   },
   "outputs": [
    {
     "data": {
      "text/plain": [
       "[1, 2, 3]"
      ]
     },
     "execution_count": 38,
     "metadata": {},
     "output_type": "execute_result"
    }
   ],
   "source": [
    "# Write your code here\n",
    "def add_items(lst):\n",
    "    lst_1=[]\n",
    "    for i in lst:\n",
    "        lst_1.append(i)\n",
    "    return (lst_1)\n",
    "new_lst=[1,2,3]\n",
    "add_items(new_lst)"
   ]
  },
  {
   "cell_type": "markdown",
   "metadata": {
    "id": "V6bx0deBMuRo"
   },
   "source": [
    "<table align=\"left\">\n",
    "    <tr>\n",
    "        <td width=\"6%\">\n",
    "            <img src=\"question_icon.png\">\n",
    "        </td>\n",
    "        <td>\n",
    "            <div align=\"left\", style=\"font-size:120%\">\n",
    "                <font color=\"#21618C\">\n",
    "                    <b>6.  Write a python function to test whether the two words start with the same character or not (take the inputs from the user)<b> \n",
    "                </font>\n",
    "            </div>\n",
    "        </td>\n",
    "    </tr>\n",
    "</table>"
   ]
  },
  {
   "cell_type": "code",
   "execution_count": 39,
   "metadata": {
    "id": "vH4wYEFqMuRp"
   },
   "outputs": [
    {
     "name": "stdout",
     "output_type": "stream",
     "text": [
      "enter a string abc\n",
      "enter other string and\n",
      " two words start with the same character\n"
     ]
    }
   ],
   "source": [
    "# Write your code here\n",
    "def test(str1,str2):\n",
    "    if str1[0]==str2[0]:\n",
    "        print(\" two words start with the same character\")\n",
    "    else:\n",
    "        print(\" two words do notstart with the same character\")\n",
    "a=input(\"enter a string \")\n",
    "b=input(\"enter other string \")\n",
    "test(a,b)"
   ]
  },
  {
   "cell_type": "markdown",
   "metadata": {
    "id": "hYDHgw94MuRp"
   },
   "source": [
    "<table align=\"left\">\n",
    "    <tr>\n",
    "        <td width=\"6%\">\n",
    "            <img src=\"question_icon.png\">\n",
    "        </td>\n",
    "        <td>\n",
    "            <div align=\"left\", style=\"font-size:120%\">\n",
    "                <font color=\"#21618C\">\n",
    "                    <b>7. Check if the string contains a vowel or not (take the inputs from the user)</b>\n",
    "                </font>\n",
    "            </div>\n",
    "        </td>\n",
    "    </tr>\n",
    "</table>"
   ]
  },
  {
   "cell_type": "code",
   "execution_count": 42,
   "metadata": {
    "id": "1p0dFFTrMuRp"
   },
   "outputs": [
    {
     "name": "stdout",
     "output_type": "stream",
     "text": [
      "enter a string nbnbe\n",
      "contains vowel\n"
     ]
    }
   ],
   "source": [
    "# Write your code here\n",
    "def check_vowels(str1):\n",
    "    vow=['a','e','i','o','u']\n",
    "    str1=str1.lower()\n",
    "    for i in str1:\n",
    "        if i in vow:\n",
    "            print(\"contains vowel\")\n",
    "            break\n",
    "string=input(\"enter a string \")\n",
    "check_vowels(string)\n",
    "        \n"
   ]
  },
  {
   "cell_type": "markdown",
   "metadata": {
    "id": "SrwilEBWMuRp"
   },
   "source": [
    "<table align=\"left\">\n",
    "    <tr>\n",
    "        <td width=\"6%\">\n",
    "            <img src=\"question_icon.png\">\n",
    "        </td>\n",
    "        <td>\n",
    "            <div align=\"left\", style=\"font-size:120%\">\n",
    "                <font color=\"#21618C\">\n",
    "                    <b>8. Write the python program to get the unique values from the given list<b>\n",
    "                </font>\n",
    "            </div>\n",
    "        </td>\n",
    "    </tr>\n",
    "</table>"
   ]
  },
  {
   "cell_type": "markdown",
   "metadata": {
    "id": "B9LWngwQMuRp"
   },
   "source": [
    "**Use the list given below:**<br>\n",
    "my_list = [1,2,3,3,11,34,3,3,4,5]"
   ]
  },
  {
   "cell_type": "code",
   "execution_count": 11,
   "metadata": {
    "id": "9AzzukgDMuRq"
   },
   "outputs": [
    {
     "name": "stdout",
     "output_type": "stream",
     "text": [
      "[1, 2, 3, 11, 34, 4, 5]\n"
     ]
    }
   ],
   "source": [
    "\n",
    "# Write your code here\n",
    "def uni(lst):\n",
    "    nw_lst=[]\n",
    "    for i in lst:\n",
    "        if i not in nw_lst:\n",
    "            nw_lst.append(i)\n",
    "    print(nw_lst)\n",
    "        \n",
    "my_list = [1,2,3,3,11,34,3,3,4,5]\n",
    "uni(my_list)\n",
    "    "
   ]
  },
  {
   "cell_type": "markdown",
   "metadata": {
    "id": "BNQ-rkA_MuRq"
   },
   "source": [
    "<table align=\"left\">\n",
    "    <tr>\n",
    "        <td width=\"6%\">\n",
    "            <img src=\"question_icon.png\">\n",
    "        </td>\n",
    "        <td>\n",
    "            <div align=\"left\", style=\"font-size:120%\">\n",
    "                <font color=\"#21618C\">\n",
    "                    <b>9. Find the common characters from the given two strings<b>\n",
    "                </font>\n",
    "            </div>\n",
    "        </td>\n",
    "    </tr>\n",
    "</table>"
   ]
  },
  {
   "cell_type": "markdown",
   "metadata": {
    "id": "2w_1An8KMuRq"
   },
   "source": [
    "**Use the strings given below:**<br>\n",
    "string1 = 'Angel'<br>\n",
    "string2 = 'apple'"
   ]
  },
  {
   "cell_type": "code",
   "execution_count": 12,
   "metadata": {
    "id": "rxQ-CM7NMuRr"
   },
   "outputs": [
    {
     "name": "stdout",
     "output_type": "stream",
     "text": [
      "['e', 'l']\n"
     ]
    }
   ],
   "source": [
    "# Write your code here\n",
    "string1 = 'Angel'\n",
    "string2 = 'apple'\n",
    "stlst=[]\n",
    "for i in string1:\n",
    "    if i in string2:\n",
    "        stlst.append(i)\n",
    "print(stlst)"
   ]
  },
  {
   "cell_type": "markdown",
   "metadata": {
    "id": "yLHuTJtDMuRr"
   },
   "source": [
    "<table align=\"left\">\n",
    "    <tr>\n",
    "        <td width=\"6%\">\n",
    "            <img src=\"question_icon.png\">\n",
    "        </td>\n",
    "        <td>\n",
    "            <div align=\"left\", style=\"font-size:120%\">\n",
    "                <font color=\"#21618C\">\n",
    "                    <b>10. Define a function to perform addition, multiplication, and subtraction of the given two numbers<b> \n",
    "                </font>\n",
    "            </div>\n",
    "        </td>\n",
    "    </tr>\n",
    "</table>"
   ]
  },
  {
   "cell_type": "markdown",
   "metadata": {
    "id": "LmEmhEmsMuRr"
   },
   "source": [
    "**Use the number given below:**<br>\n",
    "a = 15<br>\n",
    "b = 4"
   ]
  },
  {
   "cell_type": "code",
   "execution_count": 45,
   "metadata": {
    "id": "RUGW9RMZMuRr"
   },
   "outputs": [
    {
     "data": {
      "text/plain": [
       "19"
      ]
     },
     "execution_count": 45,
     "metadata": {},
     "output_type": "execute_result"
    }
   ],
   "source": [
    "# Write your code here\n",
    "def add(x,y):\n",
    "    return x+y\n",
    "def multiply(x,y):\n",
    "    return x*y\n",
    "def sub(x,y):\n",
    "    return abs(x-y)\n",
    "add(15,4)\n"
   ]
  },
  {
   "cell_type": "code",
   "execution_count": 48,
   "metadata": {},
   "outputs": [
    {
     "data": {
      "text/plain": [
       "60"
      ]
     },
     "execution_count": 48,
     "metadata": {},
     "output_type": "execute_result"
    }
   ],
   "source": [
    "multiply(15,4)"
   ]
  },
  {
   "cell_type": "code",
   "execution_count": 47,
   "metadata": {},
   "outputs": [
    {
     "data": {
      "text/plain": [
       "11"
      ]
     },
     "execution_count": 47,
     "metadata": {},
     "output_type": "execute_result"
    }
   ],
   "source": [
    "sub(15,4)"
   ]
  },
  {
   "cell_type": "markdown",
   "metadata": {
    "id": "qM3AyJroMuRs"
   },
   "source": [
    "<table align=\"left\">\n",
    "    <tr>\n",
    "        <td width=\"6%\">\n",
    "            <img src=\"question_icon.png\">\n",
    "        </td>\n",
    "        <td>\n",
    "            <div align=\"left\", style=\"font-size:120%\">\n",
    "                <font color=\"#21618C\">\n",
    "                    <b>11. Define a function to find the sum of all elements in the list<b>\n",
    "                </font>\n",
    "            </div>\n",
    "        </td>\n",
    "    </tr>\n",
    "</table>"
   ]
  },
  {
   "cell_type": "code",
   "execution_count": 112,
   "metadata": {},
   "outputs": [
    {
     "data": {
      "text/plain": [
       "10"
      ]
     },
     "execution_count": 112,
     "metadata": {},
     "output_type": "execute_result"
    }
   ],
   "source": [
    "def summ(num):\n",
    "\n",
    "    sum= 0\n",
    "\n",
    "    for i in num:\n",
    "\n",
    "         sum+= i\n",
    "\n",
    "    return sum\n",
    "\n",
    "list_1=[1,2,3,4]\n",
    "summ(list_1)"
   ]
  },
  {
   "cell_type": "markdown",
   "metadata": {
    "collapsed": true,
    "id": "7KoGCpgTMuRs"
   },
   "source": [
    "**Use the list given below:**<br>\n",
    "my_list = [34, 34, 55, 2, 56, 45]"
   ]
  },
  {
   "cell_type": "code",
   "execution_count": 62,
   "metadata": {
    "id": "M7tsYqJjMuRs"
   },
   "outputs": [
    {
     "data": {
      "text/plain": [
       "226"
      ]
     },
     "execution_count": 62,
     "metadata": {},
     "output_type": "execute_result"
    }
   ],
   "source": [
    "# Write your code here\n",
    "def summ(num):\n",
    "    sum= 0\n",
    "\n",
    "    for i in num:\n",
    "\n",
    "         sum+= i\n",
    "\n",
    "    return sum\n",
    "\n",
    "my_list = [34, 34, 55, 2, 56, 45]\n",
    "summ(my_list)"
   ]
  },
  {
   "cell_type": "markdown",
   "metadata": {
    "id": "Om_kR_HNMuRs"
   },
   "source": [
    "<a id='Lambda_Functions'></a>\n",
    "## 2. Lambda Functions"
   ]
  },
  {
   "cell_type": "markdown",
   "metadata": {
    "id": "e2DRdgOXMuRs"
   },
   "source": [
    "<table align=\"left\">\n",
    "    <tr>\n",
    "        <td width=\"6%\">\n",
    "            <img src=\"question_icon.png\">\n",
    "        </td>\n",
    "        <td>\n",
    "            <div align=\"left\", style=\"font-size:120%\">\n",
    "                <font color=\"#21618C\">\n",
    "                    <b>12. Find the minimum of the two numbers(34 and 78) using the lambda function<b>\n",
    "                </font>\n",
    "            </div>\n",
    "        </td>\n",
    "    </tr>\n",
    "</table>"
   ]
  },
  {
   "cell_type": "code",
   "execution_count": 71,
   "metadata": {
    "id": "U41r1ZgLMuRt"
   },
   "outputs": [
    {
     "name": "stdout",
     "output_type": "stream",
     "text": [
      "34\n"
     ]
    }
   ],
   "source": [
    "# Write your code here\n",
    "\n",
    "get_min = lambda a, b : a if a < b else b\n",
    "  \n",
    "print(get_min(34, 78))"
   ]
  },
  {
   "cell_type": "markdown",
   "metadata": {
    "id": "QaTlLuiTMuRt"
   },
   "source": [
    "<a id='Map_Function'></a>\n",
    "### 2.1 Map Function"
   ]
  },
  {
   "cell_type": "markdown",
   "metadata": {
    "id": "0bHH8dGfMuRt"
   },
   "source": [
    "<table align=\"left\">\n",
    "    <tr>\n",
    "        <td width=\"6%\">\n",
    "            <img src=\"question_icon.png\">\n",
    "        </td>\n",
    "        <td>\n",
    "            <div align=\"left\", style=\"font-size:120%\">\n",
    "                <font color=\"#21618C\">\n",
    "                    <b>13. Calculate the square of each element from the given tuple using the map function<b>\n",
    "                </font>\n",
    "            </div>\n",
    "        </td>\n",
    "    </tr>\n",
    "</table>"
   ]
  },
  {
   "cell_type": "markdown",
   "metadata": {
    "collapsed": true,
    "id": "ITH364bvMuRt"
   },
   "source": [
    "**Use the tuple given below:**<br>\n",
    "number = (11, 21, 30, 34)"
   ]
  },
  {
   "cell_type": "code",
   "execution_count": 74,
   "metadata": {
    "id": "zCudVdbuMuRt"
   },
   "outputs": [
    {
     "name": "stdout",
     "output_type": "stream",
     "text": [
      "(121, 441, 900, 1156)\n"
     ]
    }
   ],
   "source": [
    "# Write your code here\n",
    "def square_num(n):\n",
    "    return n * n\n",
    "number = (11, 21, 30, 34)\n",
    "tu=tuple(map(square_num,number))\n",
    "print(tu)"
   ]
  },
  {
   "cell_type": "markdown",
   "metadata": {
    "id": "EFB0fs1VMuRu"
   },
   "source": [
    "<table align=\"left\">\n",
    "    <tr>\n",
    "        <td width=\"6%\">\n",
    "            <img src=\"question_icon.png\">\n",
    "        </td>\n",
    "        <td>\n",
    "            <div align=\"left\", style=\"font-size:120%\">\n",
    "                <font color=\"#21618C\">\n",
    "                    <b>14. Read the given sentence and print the length of each word in a sentence in a list using the map function<b>\n",
    "                </font>\n",
    "            </div>\n",
    "        </td>\n",
    "    </tr>\n",
    "</table>"
   ]
  },
  {
   "cell_type": "markdown",
   "metadata": {
    "collapsed": true,
    "id": "FXwc2EJMMuRu"
   },
   "source": [
    "** Use the sentence given below:**<br>\n",
    "sentence = 'Python for Data Science'"
   ]
  },
  {
   "cell_type": "code",
   "execution_count": 15,
   "metadata": {
    "id": "AZRK4MvxMuRu"
   },
   "outputs": [
    {
     "data": {
      "text/plain": [
       "[6, 3, 4, 7]"
      ]
     },
     "execution_count": 15,
     "metadata": {},
     "output_type": "execute_result"
    }
   ],
   "source": [
    "s = \"Python for Data Science\"\n",
    "list(map(len, s.split()))"
   ]
  },
  {
   "cell_type": "markdown",
   "metadata": {
    "id": "lDkcH6UZMuRu"
   },
   "source": [
    "<table align=\"left\">\n",
    "    <tr>\n",
    "        <td width=\"6%\">\n",
    "            <img src=\"question_icon.png\">\n",
    "        </td>\n",
    "        <td>\n",
    "            <div align=\"left\", style=\"font-size:120%\">\n",
    "                <font color=\"#21618C\">\n",
    "                    <b>15. Find the remainder of all the numbers present in a list after dividing by 5\n",
    "<b>\n",
    "                </font>\n",
    "            </div>\n",
    "        </td>\n",
    "    </tr>\n",
    "</table>"
   ]
  },
  {
   "cell_type": "markdown",
   "metadata": {
    "collapsed": true,
    "id": "XqE5uyqNMuRu"
   },
   "source": [
    "**Use the list given below:**<br>\n",
    "numbers = [ 74, 85, 14, 23 ]"
   ]
  },
  {
   "cell_type": "code",
   "execution_count": 93,
   "metadata": {
    "id": "QLzG-NjiMuRu"
   },
   "outputs": [
    {
     "data": {
      "text/plain": [
       "(4, 0, 4, 3)"
      ]
     },
     "execution_count": 93,
     "metadata": {},
     "output_type": "execute_result"
    }
   ],
   "source": [
    "# Write your code here\n",
    "def rem(n):\n",
    "    remainder=n%5\n",
    "    return remainder\n",
    "numbers = ( 74, 85, 14, 23)\n",
    "tuple(map(rem,numbers))\n"
   ]
  },
  {
   "cell_type": "markdown",
   "metadata": {
    "id": "UBz3CelyMuRv"
   },
   "source": [
    "<table align=\"left\">\n",
    "    <tr>\n",
    "        <td width=\"6%\">\n",
    "            <img src=\"question_icon.png\">\n",
    "        </td>\n",
    "        <td>\n",
    "            <div align=\"left\", style=\"font-size:120%\">\n",
    "                <font color=\"#21618C\">\n",
    "                    <b>16. Concatenate elements from the list1 with the corresponding element of list2<b>\n",
    "                </font>\n",
    "            </div>\n",
    "        </td>\n",
    "    </tr>\n",
    "</table>"
   ]
  },
  {
   "cell_type": "markdown",
   "metadata": {
    "collapsed": true,
    "id": "UXW1uoOZMuRv"
   },
   "source": [
    "** Use the list given below:**<br>\n",
    "list1 = ['I', 'felt', 'happy', 'because', 'I', 'saw', 'the', 'others', 'were', 'happy']<br>\n",
    "list2 = [11,22,33,44,55,66,77,88,99]"
   ]
  },
  {
   "cell_type": "code",
   "execution_count": 14,
   "metadata": {
    "id": "Cxo0EFJSMuRv"
   },
   "outputs": [
    {
     "data": {
      "text/plain": [
       "['I[',\n",
       " 'felt1',\n",
       " 'happy1',\n",
       " 'because,',\n",
       " 'I ',\n",
       " 'saw2',\n",
       " 'the2',\n",
       " 'others,',\n",
       " 'were ',\n",
       " 'happy3']"
      ]
     },
     "execution_count": 14,
     "metadata": {},
     "output_type": "execute_result"
    }
   ],
   "source": [
    "# Write your code here\n",
    "list1 = ['I', 'felt', 'happy', 'because', 'I', 'saw', 'the', 'others', 'were', 'happy']\n",
    "list2 = [11,22,33,44,55,66,77,88,99]\n",
    "res = list(map(lambda i,j: i + j , list1,str(list2)))\n",
    "res"
   ]
  },
  {
   "cell_type": "markdown",
   "metadata": {
    "id": "IKJMFbj8MuRv"
   },
   "source": [
    "<a id='Filter_Function'></a>\n",
    "### 2.3 Filter Function"
   ]
  },
  {
   "cell_type": "markdown",
   "metadata": {
    "id": "87EpncWJMuRv"
   },
   "source": [
    "<table align=\"left\">\n",
    "    <tr>\n",
    "        <td width=\"6%\">\n",
    "            <img src=\"question_icon.png\">\n",
    "        </td>\n",
    "        <td>\n",
    "            <div align=\"left\", style=\"font-size:120%\">\n",
    "                <font color=\"#21618C\">\n",
    "                    <b>17. Find the common elements from the given array using filter method<b>\n",
    "                </font>\n",
    "            </div>\n",
    "        </td>\n",
    "    </tr>\n",
    "</table>"
   ]
  },
  {
   "cell_type": "markdown",
   "metadata": {
    "id": "iLgoKYnTMuRv"
   },
   "source": [
    "**Use the array given below:**<br>\n",
    "arr1 = ['t','u','t','o','r','i','a','l']<br>\n",
    "arr2 = ['p','o','i','n','t']"
   ]
  },
  {
   "cell_type": "code",
   "execution_count": 3,
   "metadata": {
    "id": "WP2aLJutMuRw"
   },
   "outputs": [
    {
     "data": {
      "text/plain": [
       "['o', 'i', 't']"
      ]
     },
     "execution_count": 3,
     "metadata": {},
     "output_type": "execute_result"
    }
   ],
   "source": [
    "# Write your code here\n",
    "def interSection(arr1,arr2):\n",
    " \n",
    "    result = list(filter(lambda x: x in arr1, arr2))\n",
    "    return result\n",
    " \n",
    "arr1 = ['t','u','t','o','r','i','a','l']\n",
    "arr2 = ['p','o','i','n','t'] \n",
    "interSection(arr1,arr2)"
   ]
  },
  {
   "cell_type": "markdown",
   "metadata": {
    "id": "2GTnP2AMMuRw"
   },
   "source": [
    "<table align=\"left\">\n",
    "    <tr>\n",
    "        <td width=\"6%\">\n",
    "            <img src=\"question_icon.png\">\n",
    "        </td>\n",
    "        <td>\n",
    "            <div align=\"left\", style=\"font-size:120%\">\n",
    "                <font color=\"#21618C\">\n",
    "                    <b>18. Remove odd numbers from the given list<b>\n",
    "                </font>\n",
    "            </div>\n",
    "        </td>\n",
    "    </tr>\n",
    "</table>"
   ]
  },
  {
   "cell_type": "markdown",
   "metadata": {
    "id": "hgOaqZRYMuRw"
   },
   "source": [
    "**Use the list given below:**<br>\n",
    "numbers = [21, 23, 443, 355, 743, 823, 110, 1241, 3673, 352, 278, 37, 7]"
   ]
  },
  {
   "cell_type": "code",
   "execution_count": 10,
   "metadata": {
    "id": "JlCcLYayMuRw"
   },
   "outputs": [
    {
     "data": {
      "text/plain": [
       "[110, 352, 278]"
      ]
     },
     "execution_count": 10,
     "metadata": {},
     "output_type": "execute_result"
    }
   ],
   "source": [
    "# Write your code here\n",
    "numbers = [21, 23, 443, 355, 743, 823, 110, 1241, 3673, 352, 278, 37, 7]\n",
    "result = list(filter(lambda x: x % 2 == 0, numbers))\n",
    "result\n"
   ]
  },
  {
   "cell_type": "markdown",
   "metadata": {
    "id": "XKxy-Z-vMuRw"
   },
   "source": [
    "<a id='Reduce_Function'></a>\n",
    "### 2.4 Reduce Function"
   ]
  },
  {
   "cell_type": "markdown",
   "metadata": {
    "id": "lNjbk8mpMuRw"
   },
   "source": [
    "<table align=\"left\">\n",
    "    <tr>\n",
    "        <td width=\"6%\">\n",
    "            <img src=\"question_icon.png\">\n",
    "        </td>\n",
    "        <td>\n",
    "            <div align=\"left\", style=\"font-size:120%\">\n",
    "                <font color=\"#21618C\">\n",
    "                    <b>19. Calculate the sum of the numbers from 1 to 100<b> \n",
    "                </font>\n",
    "            </div>\n",
    "        </td>\n",
    "    </tr>\n",
    "</table>"
   ]
  },
  {
   "cell_type": "code",
   "execution_count": 4,
   "metadata": {
    "id": "0m67pf6zMuRx"
   },
   "outputs": [
    {
     "name": "stdout",
     "output_type": "stream",
     "text": [
      "5050\n"
     ]
    }
   ],
   "source": [
    "# Write your code here\n",
    "import functools\n",
    "ans = functools.reduce(lambda x, y: x + y, range(1,101))\n",
    "print(ans) "
   ]
  },
  {
   "cell_type": "markdown",
   "metadata": {
    "id": "Lzm_i3-CMuRx"
   },
   "source": [
    "<table align=\"left\">\n",
    "    <tr>\n",
    "        <td width=\"6%\">\n",
    "            <img src=\"question_icon.png\">\n",
    "        </td>\n",
    "        <td>\n",
    "            <div align=\"left\", style=\"font-size:120%\">\n",
    "                <font color=\"#21618C\">\n",
    "                    <b>20. Determine the maximum of a given list using reduce function<b> \n",
    "                </font>\n",
    "            </div>\n",
    "        </td>\n",
    "    </tr>\n",
    "</table>"
   ]
  },
  {
   "cell_type": "markdown",
   "metadata": {
    "id": "ZhGujmg1MuRx"
   },
   "source": [
    "**Use the list given below:**<br>\n",
    "my_list = [47,11,42,102,13]   "
   ]
  },
  {
   "cell_type": "code",
   "execution_count": 10,
   "metadata": {
    "id": "PTaTv36TMuRx"
   },
   "outputs": [
    {
     "data": {
      "text/plain": [
       "102"
      ]
     },
     "execution_count": 10,
     "metadata": {},
     "output_type": "execute_result"
    }
   ],
   "source": [
    "# Write your code here\n",
    "my_list = [47,11,42,102,13]\n",
    "res=functools.reduce(max,my_list)\n",
    "res"
   ]
  },
  {
   "cell_type": "markdown",
   "metadata": {},
   "source": [
    "<table align=\"left\">\n",
    "    <tr>\n",
    "        <td width=\"6%\">\n",
    "            <img src=\"question_icon.png\">\n",
    "        </td>\n",
    "        <td>\n",
    "            <div align=\"left\", style=\"font-size:120%\">\n",
    "                <font color=\"#21618C\">\n",
    "                    <b>21. A 5 star hotel is maintaining its order history in the dictionary in the given format. Find out which food item is ordered the least\n",
    "\n",
    "order_id: [list of items ordered]\n",
    "\n",
    "order_history= {161:['Noodles','Tomato Soup','Fries'],162:['Rice Idli','Rawa Dosa','Fries'],163:['Fries','Noodles'],164:['Rice', 'Idli','Rawa Dosa','Fries','Noodles']}..<b> \n",
    "                </font>\n",
    "            </div>\n",
    "        </td>\n",
    "    </tr>\n",
    "</table>"
   ]
  },
  {
   "cell_type": "code",
   "execution_count": 18,
   "metadata": {},
   "outputs": [
    {
     "data": {
      "text/plain": [
       "'Tomato Soup'"
      ]
     },
     "execution_count": 18,
     "metadata": {},
     "output_type": "execute_result"
    }
   ],
   "source": [
    "order_history= {161:['Noodles','Tomato Soup','Fries'],162:['Rice Idli','Rawa Dosa','Fries'],163:['Fries','Noodles'],164:['Rice','Idli','Rawa Dosa','Fries','Noodles']}\n",
    "v1 = list(order_history.values())\n",
    "a = [j for i in v1 for j in i]\n",
    "def minimum(x):\n",
    "    return min(a,key = a.count)\n",
    "minimum(a)"
   ]
  },
  {
   "cell_type": "code",
   "execution_count": null,
   "metadata": {},
   "outputs": [],
   "source": []
  }
 ],
 "metadata": {
  "colab": {
   "collapsed_sections": [],
   "name": "Python- In-Class Lab Exercise(Week-4)   - Questions.ipynb",
   "provenance": []
  },
  "kernelspec": {
   "display_name": "Python 3 (ipykernel)",
   "language": "python",
   "name": "python3"
  },
  "language_info": {
   "codemirror_mode": {
    "name": "ipython",
    "version": 3
   },
   "file_extension": ".py",
   "mimetype": "text/x-python",
   "name": "python",
   "nbconvert_exporter": "python",
   "pygments_lexer": "ipython3",
   "version": "3.11.0"
  }
 },
 "nbformat": 4,
 "nbformat_minor": 1
}
